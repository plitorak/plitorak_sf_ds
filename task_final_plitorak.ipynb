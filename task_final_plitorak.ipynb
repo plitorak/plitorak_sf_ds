{
 "cells": [
  {
   "metadata": {},
   "cell_type": "markdown",
   "source": "## Импорты и используемые файлы",
   "id": "9b45f95b4c617192"
  },
  {
   "metadata": {
    "collapsed": true,
    "ExecuteTime": {
     "end_time": "2024-12-10T13:18:44.846470Z",
     "start_time": "2024-12-10T13:18:43.864042Z"
    }
   },
   "cell_type": "code",
   "source": [
    "import pandas as pd\n",
    "import seaborn as sns\n",
    "from scipy.stats import chi2_contingency\n",
    "\n",
    "diabetes = pd.read_csv('data/diabetes.csv', sep=',')\n",
    "train = pd.read_csv('data/train.csv', sep=',')\n",
    "test = pd.read_csv('data/test.csv', sep=',')\n",
    "dia_1 = pd.read_csv('data/diabetes_012_health_indicators_BRFSS2015.csv', sep=',')\n",
    "dia_2 = pd.read_csv('data/diabetes_binary_5050split_health_indicators_BRFSS2015.csv', sep=',')\n",
    "dia_3 = pd.read_csv('data/diabetes_012_health_indicators_BRFSS2015.csv', sep=',')"
   ],
   "id": "initial_id",
   "outputs": [],
   "execution_count": 264
  },
  {
   "metadata": {},
   "cell_type": "markdown",
   "source": "## Блок с функциями",
   "id": "1ca11fde4e80d8fe"
  },
  {
   "metadata": {
    "ExecuteTime": {
     "end_time": "2024-12-10T13:18:44.867042Z",
     "start_time": "2024-12-10T13:18:44.861319Z"
    }
   },
   "cell_type": "code",
   "source": [
    "def change_0 (meaning: float) -> float | None:\n",
    "    \"\"\"Заменить 0 на None, остальные данные не трогать\"\"\"\n",
    "    if meaning == 0:\n",
    "        return None\n",
    "    else:\n",
    "        return meaning\n",
    "    \n",
    "def get_bp(bp: float) -> int:\n",
    "    \"\"\"1 - наличие АГ, 0 - отсутствие АГ\"\"\"\n",
    "    if bp >= 90:\n",
    "        return 1\n",
    "    else:\n",
    "        return 0\n",
    "    \n",
    "def get_obesity(bmi: float) -> int:\n",
    "    \"\"\"1 - наличие ожирения, 0 - отсутствие ожирения\"\"\"\n",
    "    if bmi >= 30:\n",
    "        return 1\n",
    "    else:\n",
    "        return 0"
   ],
   "id": "2a2d57ab899c9d68",
   "outputs": [],
   "execution_count": 265
  },
  {
   "metadata": {},
   "cell_type": "markdown",
   "source": [
    "## Датасет __diabetes__ \n",
    "\n",
    "\n",
    "\n",
    "В таблице diabetes собраны данные о 768 женщинах индейского происхождения Пима в возрасте от 21 до 81 лет, у которых измеряли ИМТ, ДАД, толщину кожной складки трицепса, глюкозу через 2 часа в ПГТТ, инсулин; отразили наследственность по диабету и количество беременностей.\n",
    "\n",
    "### Обработка данных diabetes\n",
    " \n",
    "Пропущенных значений, на первый взгляд, нет. Однако, при описании каждого из столбцов встречается 0 в min: уровень глюкозы, уровень ДАД, толщина кожной складки трицепса, инсулин, ИМТ. Такого в живом организме быть не может, а значение 0 может повлиять на общие выводы. Допускаем, что число беременностей может быть 0, поэтому это значение меня относительно устраивает. Создам столбец, который отражает наличие/отсуствие АГ, т.к. нам дано только ДАД, диагноз буду ставить по уровню ДАД. Переименую столбцы для последующей конкатенации, также для этого создам столбец Sex. Выделю столбец HighParity, в котором 1 - это наличие 3 и более беременностей, что не очень корректно, потому паритет - это количество родов.  "
   ],
   "id": "a8a051fd9c0d1321"
  },
  {
   "metadata": {
    "ExecuteTime": {
     "end_time": "2024-12-10T13:18:45.076384Z",
     "start_time": "2024-12-10T13:18:45.059008Z"
    }
   },
   "cell_type": "code",
   "source": [
    "diabetes['Glucose'] = diabetes['Glucose'].apply(change_0)\n",
    "diabetes ['BloodPressure'] = diabetes['BloodPressure'].apply(change_0)\n",
    "diabetes['SkinThickness'] = diabetes['SkinThickness'].apply(change_0)\n",
    "diabetes['Insulin'] = diabetes['Insulin'].apply(change_0)\n",
    "diabetes['BMI'] = diabetes['BMI'].apply(change_0)\n",
    "\n",
    "diabetes = diabetes.rename(columns={'Outcome' : 'Diabetes'})\n",
    "\n",
    "diabetes['HighBP'] = diabetes['BloodPressure'].apply(get_bp)\n",
    "diabetes['Sex'] = [0] * 768\n",
    "diabetes['HighParity'] = diabetes['Pregnancies'].apply(lambda x: 0 if x < 3 else 1)\n",
    "diabetes['Obesity'] = diabetes['BMI'].apply(get_obesity)"
   ],
   "id": "691f82646742888e",
   "outputs": [],
   "execution_count": 266
  },
  {
   "metadata": {},
   "cell_type": "markdown",
   "source": [
    "### Блок расчета p и χ² для diabetes\n",
    "Предположим, что фактором риска развития сахарного диабета является: факт высокого паритета, факт высокого АД, факт ожирения."
   ],
   "id": "358d58312a66fd1e"
  },
  {
   "metadata": {
    "ExecuteTime": {
     "end_time": "2024-12-10T13:18:45.312690Z",
     "start_time": "2024-12-10T13:18:45.283728Z"
    }
   },
   "cell_type": "code",
   "source": [
    "chi2, p, dof, expected = chi2_contingency(pd.crosstab(diabetes['HighBP'], diabetes['Diabetes']))\n",
    "display(f'χ²: {chi2}, p-значение: {p}')\n",
    "\n",
    "chi2, p, dof, expected = chi2_contingency(pd.crosstab(diabetes['HighParity'], diabetes['Diabetes']))\n",
    "display(f'χ²: {chi2}, p-значение: {p}')\n",
    "\n",
    "chi2, p, dof, expected = chi2_contingency(pd.crosstab(diabetes['Obesity'], diabetes['Diabetes']))\n",
    "display(f'χ²: {chi2}, p-значение: {p}')"
   ],
   "id": "6cef4d2af4b824b6",
   "outputs": [
    {
     "data": {
      "text/plain": [
       "'χ²: 4.551191702504427, p-значение: 0.03289584329913219'"
      ]
     },
     "metadata": {},
     "output_type": "display_data"
    },
    {
     "data": {
      "text/plain": [
       "'χ²: 28.784292119287443, p-значение: 8.090462947728804e-08'"
      ]
     },
     "metadata": {},
     "output_type": "display_data"
    },
    {
     "data": {
      "text/plain": [
       "'χ²: 70.01243027191117, p-значение: 5.893192387193184e-17'"
      ]
     },
     "metadata": {},
     "output_type": "display_data"
    }
   ],
   "execution_count": 267
  },
  {
   "metadata": {},
   "cell_type": "markdown",
   "source": [
    "### Выводы по датасету diabetes\n",
    "Существует статистически значимая связь между АГ в анамнезе (p < 0.05), наличием ожирения (p < 0.05), высоким паритетом (p < 0.05) и СД."
   ],
   "id": "353280f4efa29af9"
  },
  {
   "metadata": {},
   "cell_type": "markdown",
   "source": [
    "## Датасеты __train__ и __test__ \n",
    "\n",
    "В таблицах собраны данные о более чем 4000 жителей города Фрамингем, штат Массачусетс. У жителей исследовали: возраст, уровень образования, пол, факт курения, количество выкуриваемых сигарет в день, факт инсульта, факт АГ, факт СД, уровень холестерина, САД, ДАД, ИМТ, ЧСС, уровень глюкозы. \n",
    "\n",
    "### Обработка данных и объединение train и test\n",
    "\n",
    "В test 16 колонок, 848 строк. В train 17 колонок, 3390 строк. Одним и тем же параметрам соответствуют колонки: все, кроме TenYearCHD. Таблицы можно объединить горизонтально, по строкам. Общее количество строк должно быть 4238.\n",
    "Столбец риска развития ИБС есть только в датасете train, это расчетный показатель и при объединении 848 id будут без этого значения. Я удалю этот столбец, принимая во внимание то, что нас интересуют факторы риска СД, а сердечно-сосудистый риск.\n",
    "Проанализируем данные на предмет пропущенных значений, для этого посмотрим на min. min == 0 у приемлемых показателей. \n",
    "Появились новые факты, которые можно отнести к факторам риска диабета: уровень образования, пол, факт курения, факт инсульта, уровень холестерина, САД, ЧСС. Колонку BPMeds (медицинские данные), возможно удалю ее, не понимаю, какую информацию она несет, \n",
    "Переименую колонки с одинаковыми данными, но разными названиями, для последующей конкатенации. А также создам столбец, который отражает факт наличия/отсутствия АГ. Заменю male на 1, а female на 0 исходя из данных по следующему датасету (https://www.kaggle.com/code/alexteboul/diabetes-health-indicators-dataset-notebook/notebook).\n",
    "\n"
   ],
   "id": "bd8c9906b4da0eee"
  },
  {
   "metadata": {
    "ExecuteTime": {
     "end_time": "2024-12-10T13:18:45.688578Z",
     "start_time": "2024-12-10T13:18:45.666279Z"
    }
   },
   "cell_type": "code",
   "source": [
    "train_test = pd.concat([train, test], axis=0)\n",
    "\n",
    "train_test = train_test.drop('TenYearCHD', axis=1)\n",
    "\n",
    "train_test = train_test.rename(columns={'sex' : 'Sex', 'age' : 'Age', 'diabetes' : 'Diabetes'})\n",
    "\n",
    "train_test['HighBP'] = train_test['diaBP'].apply(get_bp)\n",
    "train_test['Sex'] = train_test['Sex'].apply(lambda x: 0 if x == 'F' else 1)\n",
    "train_test['Obesity'] = train_test['BMI'].apply(get_obesity)"
   ],
   "id": "54ec32ad351791c4",
   "outputs": [],
   "execution_count": 268
  },
  {
   "metadata": {
    "ExecuteTime": {
     "end_time": "2024-12-10T13:18:45.738574Z",
     "start_time": "2024-12-10T13:18:45.724079Z"
    }
   },
   "cell_type": "code",
   "source": "train_test.info()",
   "id": "e82953210ae1740c",
   "outputs": [
    {
     "name": "stdout",
     "output_type": "stream",
     "text": [
      "<class 'pandas.core.frame.DataFrame'>\n",
      "Index: 4238 entries, 0 to 847\n",
      "Data columns (total 18 columns):\n",
      " #   Column           Non-Null Count  Dtype  \n",
      "---  ------           --------------  -----  \n",
      " 0   id               4238 non-null   int64  \n",
      " 1   Age              4238 non-null   int64  \n",
      " 2   education        4133 non-null   float64\n",
      " 3   Sex              4238 non-null   int64  \n",
      " 4   is_smoking       4238 non-null   object \n",
      " 5   cigsPerDay       4209 non-null   float64\n",
      " 6   BPMeds           4185 non-null   float64\n",
      " 7   prevalentStroke  4238 non-null   int64  \n",
      " 8   prevalentHyp     4238 non-null   int64  \n",
      " 9   Diabetes         4238 non-null   int64  \n",
      " 10  totChol          4188 non-null   float64\n",
      " 11  sysBP            4238 non-null   float64\n",
      " 12  diaBP            4238 non-null   float64\n",
      " 13  BMI              4219 non-null   float64\n",
      " 14  heartRate        4237 non-null   float64\n",
      " 15  glucose          3850 non-null   float64\n",
      " 16  HighBP           4238 non-null   int64  \n",
      " 17  Obesity          4238 non-null   int64  \n",
      "dtypes: float64(9), int64(8), object(1)\n",
      "memory usage: 629.1+ KB\n"
     ]
    }
   ],
   "execution_count": 269
  },
  {
   "metadata": {},
   "cell_type": "markdown",
   "source": "### Блок расчета p и χ² для train_test",
   "id": "f10be0284555e764"
  },
  {
   "metadata": {
    "ExecuteTime": {
     "end_time": "2024-12-10T13:18:45.958773Z",
     "start_time": "2024-12-10T13:18:45.931967Z"
    }
   },
   "cell_type": "code",
   "source": [
    "chi2, p, dof, expected = chi2_contingency(pd.crosstab(train_test['HighBP'], train_test['Diabetes']))\n",
    "display(f'χ²: {chi2}, p-значение: {p}')\n",
    "\n",
    "chi2, p, dof, expected = chi2_contingency(pd.crosstab(train_test['Obesity'], train_test['Diabetes']))\n",
    "display(f'χ²: {chi2}, p-значение: {p}')"
   ],
   "id": "1fd988fdd42b65c0",
   "outputs": [
    {
     "data": {
      "text/plain": [
       "'χ²: 8.797110616985364, p-значение: 0.0030170799467614216'"
      ]
     },
     "metadata": {},
     "output_type": "display_data"
    },
    {
     "data": {
      "text/plain": [
       "'χ²: 18.17389616350793, p-значение: 2.01623518636905e-05'"
      ]
     },
     "metadata": {},
     "output_type": "display_data"
    }
   ],
   "execution_count": 270
  },
  {
   "metadata": {},
   "cell_type": "markdown",
   "source": [
    "### Выводы по датасету train_test\n",
    "\n",
    "Существует статистически значимая связь между АГ в анамнезе (p < 0.05), наличием ожирения (p < 0.05) и СД.\n"
   ],
   "id": "db643c3d72fc59a5"
  },
  {
   "metadata": {},
   "cell_type": "markdown",
   "source": [
    "## __Датасеты__ diabetes_012_health_indicators_BRFSS2015 __(dia_1)__, diabetes_binary_5050split_health_indicators_BRFSS2015 __(dia_2)__, diabetes_012_health_indicators_BRFSS2015 __(dia_3)__ \n",
    "\n",
    "В таблицах собраны данные о более чем 400 000 жителей США. В ходе телефонного опроса у жителей узнавали: возраст, уровень образования, уровень дохода, пол, факт курения, факт инсульта, факт ИМ или ИБС, факт АГ, факт СД, факт проверки уровня холестерина, факт высокого уровня холестерина, ИМТ, факт физической активности за последние 30 дней, факт употребления фруктов и отдельно овощей хотя бы 1 раз в день.\n",
    "\n",
    "### Обработка данных и объединение трех датасетов\n",
    "В таблицах dia_1 и dia_3 диабет интерпретирован так: 0 - нет, 1 - диабет, 2 - преддиабет. А в таблице dia_2 этот показатель бинарный и преддиабет это 1, нужно заменить 2 на 1. Переименую столбцы, которые отражают одни и те же данные, но называются по-другому, для беспроблемной конкатенации. Диагноз АГ буду ставить по ДАД.\n"
   ],
   "id": "598b25bb446c100a"
  },
  {
   "metadata": {
    "ExecuteTime": {
     "end_time": "2024-12-10T13:18:47.167924Z",
     "start_time": "2024-12-10T13:18:46.440714Z"
    }
   },
   "cell_type": "code",
   "source": [
    "dia_2 = dia_2.rename(columns={'Diabetes_binary' : 'Diabetes_012'})\n",
    "\n",
    "dia_1['Diabetes_012'] = dia_1['Diabetes_012'].apply(lambda x: 1 if x == 2 else x)\n",
    "dia_3['Diabetes_012'] = dia_3['Diabetes_012'].apply(lambda x: 1 if x == 2 else x)\n",
    "\n",
    "dia_all = pd.concat(\n",
    "    [dia_1, dia_2, dia_3],\n",
    "    ignore_index=True\n",
    ")\n",
    "\n",
    "dia_all = dia_all.rename(columns={'Diabetes_012': 'Diabetes'})\n",
    "dia_all['Obesity'] = dia_all['BMI'].apply(get_obesity)"
   ],
   "id": "f48de5b5a3c15ab2",
   "outputs": [],
   "execution_count": 271
  },
  {
   "metadata": {
    "ExecuteTime": {
     "end_time": "2024-12-10T13:18:47.208770Z",
     "start_time": "2024-12-10T13:18:47.185290Z"
    }
   },
   "cell_type": "code",
   "source": [
    "#Создам маски таблиц с общими столбцами для всех трех таблиц и объединю таблицы\n",
    "\n",
    "mask_1 = diabetes.loc[:, ['Age', 'Sex', 'HighBP', 'Diabetes', 'BMI']]\n",
    "mask_2 = dia_all.loc[:, ['Age', 'Sex', 'HighBP', 'Diabetes', 'BMI']]\n",
    "mask_3 = train_test.loc[:, ['Age', 'Sex', 'HighBP', 'Diabetes', 'BMI']]\n",
    "\n",
    "general_dataset = pd.concat(\n",
    "    [mask_1, mask_2, mask_3],\n",
    "    ignore_index=True\n",
    ")"
   ],
   "id": "a6c58889429e4825",
   "outputs": [],
   "execution_count": 272
  },
  {
   "metadata": {
    "ExecuteTime": {
     "end_time": "2024-12-10T13:18:47.472296Z",
     "start_time": "2024-12-10T13:18:47.440157Z"
    }
   },
   "cell_type": "code",
   "source": "dia_all.info()",
   "id": "4b413552b6a384a6",
   "outputs": [
    {
     "name": "stdout",
     "output_type": "stream",
     "text": [
      "<class 'pandas.core.frame.DataFrame'>\n",
      "RangeIndex: 578052 entries, 0 to 578051\n",
      "Data columns (total 23 columns):\n",
      " #   Column                Non-Null Count   Dtype  \n",
      "---  ------                --------------   -----  \n",
      " 0   Diabetes              578052 non-null  float64\n",
      " 1   HighBP                578052 non-null  float64\n",
      " 2   HighChol              578052 non-null  float64\n",
      " 3   CholCheck             578052 non-null  float64\n",
      " 4   BMI                   578052 non-null  float64\n",
      " 5   Smoker                578052 non-null  float64\n",
      " 6   Stroke                578052 non-null  float64\n",
      " 7   HeartDiseaseorAttack  578052 non-null  float64\n",
      " 8   PhysActivity          578052 non-null  float64\n",
      " 9   Fruits                578052 non-null  float64\n",
      " 10  Veggies               578052 non-null  float64\n",
      " 11  HvyAlcoholConsump     578052 non-null  float64\n",
      " 12  AnyHealthcare         578052 non-null  float64\n",
      " 13  NoDocbcCost           578052 non-null  float64\n",
      " 14  GenHlth               578052 non-null  float64\n",
      " 15  MentHlth              578052 non-null  float64\n",
      " 16  PhysHlth              578052 non-null  float64\n",
      " 17  DiffWalk              578052 non-null  float64\n",
      " 18  Sex                   578052 non-null  float64\n",
      " 19  Age                   578052 non-null  float64\n",
      " 20  Education             578052 non-null  float64\n",
      " 21  Income                578052 non-null  float64\n",
      " 22  Obesity               578052 non-null  int64  \n",
      "dtypes: float64(22), int64(1)\n",
      "memory usage: 101.4 MB\n"
     ]
    }
   ],
   "execution_count": 273
  },
  {
   "metadata": {},
   "cell_type": "markdown",
   "source": "### Блок расчетов для general_dataset",
   "id": "b2535c5d485896f"
  },
  {
   "metadata": {
    "ExecuteTime": {
     "end_time": "2024-12-10T13:18:47.785943Z",
     "start_time": "2024-12-10T13:18:47.672794Z"
    }
   },
   "cell_type": "code",
   "source": [
    "chi2, p, dof, expected = chi2_contingency(pd.crosstab(general_dataset['HighBP'], general_dataset['Diabetes']))\n",
    "display(f'χ²: {chi2}, p-значение: {p}')\n",
    "\n",
    "chi2, p, dof, expected = chi2_contingency(pd.crosstab(general_dataset['Sex'], general_dataset['Diabetes']))\n",
    "display(f'χ²: {chi2}, p-значение: {p}')"
   ],
   "id": "efd1b3ced8e0970",
   "outputs": [
    {
     "data": {
      "text/plain": [
       "'χ²: 51706.425221904705, p-значение: 0.0'"
      ]
     },
     "metadata": {},
     "output_type": "display_data"
    },
    {
     "data": {
      "text/plain": [
       "'χ²: 636.7890000263055, p-значение: 1.668355168787208e-140'"
      ]
     },
     "metadata": {},
     "output_type": "display_data"
    }
   ],
   "execution_count": 274
  },
  {
   "metadata": {
    "ExecuteTime": {
     "end_time": "2024-12-10T13:18:48.122092Z",
     "start_time": "2024-12-10T13:18:48.045776Z"
    }
   },
   "cell_type": "code",
   "source": "general_dataset.corr()",
   "id": "cd3d4f9535df6ce",
   "outputs": [
    {
     "data": {
      "text/plain": [
       "               Age       Sex    HighBP  Diabetes       BMI\n",
       "Age       1.000000 -0.022960  0.190117  0.106468 -0.040911\n",
       "Sex      -0.022960  1.000000  0.052347  0.033052  0.037613\n",
       "HighBP    0.190117  0.052347  1.000000  0.297799  0.222602\n",
       "Diabetes  0.106468  0.033052  0.297799  1.000000  0.245962\n",
       "BMI      -0.040911  0.037613  0.222602  0.245962  1.000000"
      ],
      "text/html": [
       "<div>\n",
       "<style scoped>\n",
       "    .dataframe tbody tr th:only-of-type {\n",
       "        vertical-align: middle;\n",
       "    }\n",
       "\n",
       "    .dataframe tbody tr th {\n",
       "        vertical-align: top;\n",
       "    }\n",
       "\n",
       "    .dataframe thead th {\n",
       "        text-align: right;\n",
       "    }\n",
       "</style>\n",
       "<table border=\"1\" class=\"dataframe\">\n",
       "  <thead>\n",
       "    <tr style=\"text-align: right;\">\n",
       "      <th></th>\n",
       "      <th>Age</th>\n",
       "      <th>Sex</th>\n",
       "      <th>HighBP</th>\n",
       "      <th>Diabetes</th>\n",
       "      <th>BMI</th>\n",
       "    </tr>\n",
       "  </thead>\n",
       "  <tbody>\n",
       "    <tr>\n",
       "      <th>Age</th>\n",
       "      <td>1.000000</td>\n",
       "      <td>-0.022960</td>\n",
       "      <td>0.190117</td>\n",
       "      <td>0.106468</td>\n",
       "      <td>-0.040911</td>\n",
       "    </tr>\n",
       "    <tr>\n",
       "      <th>Sex</th>\n",
       "      <td>-0.022960</td>\n",
       "      <td>1.000000</td>\n",
       "      <td>0.052347</td>\n",
       "      <td>0.033052</td>\n",
       "      <td>0.037613</td>\n",
       "    </tr>\n",
       "    <tr>\n",
       "      <th>HighBP</th>\n",
       "      <td>0.190117</td>\n",
       "      <td>0.052347</td>\n",
       "      <td>1.000000</td>\n",
       "      <td>0.297799</td>\n",
       "      <td>0.222602</td>\n",
       "    </tr>\n",
       "    <tr>\n",
       "      <th>Diabetes</th>\n",
       "      <td>0.106468</td>\n",
       "      <td>0.033052</td>\n",
       "      <td>0.297799</td>\n",
       "      <td>1.000000</td>\n",
       "      <td>0.245962</td>\n",
       "    </tr>\n",
       "    <tr>\n",
       "      <th>BMI</th>\n",
       "      <td>-0.040911</td>\n",
       "      <td>0.037613</td>\n",
       "      <td>0.222602</td>\n",
       "      <td>0.245962</td>\n",
       "      <td>1.000000</td>\n",
       "    </tr>\n",
       "  </tbody>\n",
       "</table>\n",
       "</div>"
      ]
     },
     "execution_count": 275,
     "metadata": {},
     "output_type": "execute_result"
    }
   ],
   "execution_count": 275
  },
  {
   "metadata": {},
   "cell_type": "markdown",
   "source": [
    "# Итоговые выводы\n",
    "\n",
    "На основе корреляционного анализа установлено, что я не умею его делать и у диабета нет взаимосвязи ни с одним из столбцов. \n"
   ],
   "id": "1f1a7a35d9e69ad5"
  },
  {
   "metadata": {},
   "cell_type": "markdown",
   "source": "# Визуализация",
   "id": "ca9df1c30585beca"
  },
  {
   "metadata": {
    "ExecuteTime": {
     "end_time": "2024-12-10T13:18:48.848913Z",
     "start_time": "2024-12-10T13:18:48.376328Z"
    }
   },
   "cell_type": "code",
   "source": [
    "# Heatmap по матрице корреляций\n",
    "\n",
    "sns.heatmap(\n",
    "    general_dataset.corr(),        \n",
    "    cmap='RdBu_r', \n",
    "    annot=True, # рисует значения внутри ячеек\n",
    "    vmin=-1, vmax=1); # указывает начало цветовых кодов от -1 до 1."
   ],
   "id": "32685d800a1a636b",
   "outputs": [
    {
     "data": {
      "text/plain": [
       "<Figure size 640x480 with 2 Axes>"
      ],
      "image/png": "[encoded data removed]"
     },
     "metadata": {},
     "output_type": "display_data"
    }
   ],
   "execution_count": 276
  },
  {
   "metadata": {
    "ExecuteTime": {
     "end_time": "2024-12-10T13:18:58.630443Z",
     "start_time": "2024-12-10T13:18:48.898517Z"
    }
   },
   "cell_type": "code",
   "source": [
    "# Гистограмма для сравнения распределения ИМТ между мужчинами и женщинами\n",
    "\n",
    "sns.barplot(\n",
    "    x='Sex', \n",
    "    y='BMI', \n",
    "    data=general_dataset, \n",
    "    color='blue'\n",
    "    );"
   ],
   "id": "9a2e0b6b06c75f87",
   "outputs": [
    {
     "data": {
      "text/plain": [
       "<Figure size 640x480 with 1 Axes>"
      ],
      "image/png": "[encoded data removed]"
     },
     "metadata": {},
     "output_type": "display_data"
    }
   ],
   "execution_count": 277
  }
 ],
 "metadata": {
  "kernelspec": {
   "display_name": "Python 3",
   "language": "python",
   "name": "python3"
  },
  "language_info": {
   "codemirror_mode": {
    "name": "ipython",
    "version": 2
   },
   "file_extension": ".py",
   "mimetype": "text/x-python",
   "name": "python",
   "nbconvert_exporter": "python",
   "pygments_lexer": "ipython2",
   "version": "2.7.6"
  }
 },
 "nbformat": 4,
 "nbformat_minor": 5
}

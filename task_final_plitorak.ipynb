{
 "cells": [
  {
   "cell_type": "code",
   "id": "initial_id",
   "metadata": {
    "collapsed": true,
    "ExecuteTime": {
     "end_time": "2024-12-09T16:12:08.857095Z",
     "start_time": "2024-12-09T16:12:08.013151Z"
    }
   },
   "source": [
    "import pandas as pd\n",
    "from rich.jupyter import display\n",
    "diabetes = pd.read_csv('data/diabetes.csv', sep=',')\n",
    "train = pd.read_csv('data/train.csv', sep=',')\n",
    "test = pd.read_csv('data/test.csv', sep=',')\n",
    "dia_1 = pd.read_csv('data/diabetes_012_health_indicators_BRFSS2015.csv', sep=',')\n",
    "dia_2 = pd.read_csv('data/diabetes_binary_5050split_health_indicators_BRFSS2015.csv', sep=',')\n",
    "dia_3 = pd.read_csv('data/diabetes_012_health_indicators_BRFSS2015.csv', sep=',')"
   ],
   "outputs": [],
   "execution_count": 101
  },
  {
   "metadata": {},
   "cell_type": "markdown",
   "source": [
    "__Что в diabetes?__\n",
    "\n",
    "В таблице diabetes собраны данные о 768 женщинах индейского происхождения Пима в возрасте от 21 до 81 лет, у которых измеряли ИМТ, ДАД, толщину кожной складки трицепса, глюкозу через 2 часа в ПГТТ, инсулин; отразили наследственность по диабету и количество беременностей. \n",
    "Пропущенных значений, на первый взгляд, нет. Однако, при описании каждого из столбцов встречается 0 в min: уровень глюкозы, уровень ДАД, толщина кожной складки трицепса, инсулин, ИМТ. Такого в живом организме быть не может, а значение 0 может повлиять на общие выводы. Допускаем, что число беременностей может быть 0, поэтому это значение меня относительно устраивает.\n",
    "Прежде чем анализировать факторы риска, которые способствуют развитию СД, я заменю 0 на None."
   ],
   "id": "2d5b5a8122e50b94"
  },
  {
   "metadata": {
    "ExecuteTime": {
     "end_time": "2024-12-09T16:12:08.868426Z",
     "start_time": "2024-12-09T16:12:08.864309Z"
    }
   },
   "cell_type": "code",
   "source": [
    "def change_0 (meaning):\n",
    "    \"\"\"Заменить 0 на None, остальные данные не трогать\"\"\"\n",
    "    if meaning == 0:\n",
    "        return None\n",
    "    else:\n",
    "        return meaning"
   ],
   "id": "fabaafca8c48ee7e",
   "outputs": [],
   "execution_count": 102
  },
  {
   "metadata": {
    "ExecuteTime": {
     "end_time": "2024-12-09T16:12:09.007869Z",
     "start_time": "2024-12-09T16:12:08.999172Z"
    }
   },
   "cell_type": "code",
   "source": [
    "diabetes['Glucose'] = diabetes['Glucose'].apply(change_0)\n",
    "diabetes ['BloodPressure'] = diabetes['BloodPressure'].apply(change_0)\n",
    "diabetes['SkinThickness'] = diabetes['SkinThickness'].apply(change_0)\n",
    "diabetes['Insulin'] = diabetes['Insulin'].apply(change_0)\n",
    "diabetes['BMI'] = diabetes['BMI'].apply(change_0)"
   ],
   "id": "691f82646742888e",
   "outputs": [],
   "execution_count": 103
  },
  {
   "metadata": {},
   "cell_type": "markdown",
   "source": "Проверим какие факторы связаны с развитием диабета. Предположим, что развитию диабета может способствовать: высокий паритет, высокое ДАД, высокий ИМТ, возраст, толщина складки, отягощенная наследственность.",
   "id": "358d58312a66fd1e"
  },
  {
   "metadata": {
    "ExecuteTime": {
     "end_time": "2024-12-09T16:12:09.177052Z",
     "start_time": "2024-12-09T16:12:09.145989Z"
    }
   },
   "cell_type": "code",
   "source": [
    "diabetes.pivot_table(\n",
    "    values=['Pregnancies', 'BloodPressure', 'SkinThickness', 'Insulin', 'BMI', 'Age', 'DiabetesPedigreeFunction'],\n",
    "    aggfunc=['mean', 'median', 'min', 'max'],\n",
    "    columns='Outcome'\n",
    ")"
   ],
   "id": "6cef4d2af4b824b6",
   "outputs": [
    {
     "data": {
      "text/plain": [
       "                                mean               median              min  \\\n",
       "Outcome                            0           1        0        1       0   \n",
       "Age                        31.190000   37.067164   27.000   36.000  21.000   \n",
       "BMI                        30.859674   35.406767   30.100   34.300  18.200   \n",
       "BloodPressure              70.877339   75.321429   70.000   74.500  24.000   \n",
       "DiabetesPedigreeFunction    0.429734    0.550500    0.336    0.449   0.078   \n",
       "Insulin                   130.287879  206.846154  102.500  169.500  15.000   \n",
       "Pregnancies                 3.298000    4.865672    2.000    4.000   0.000   \n",
       "SkinThickness              27.235457   33.000000   27.000   32.000   7.000   \n",
       "\n",
       "                                      max          \n",
       "Outcome                        1        0       1  \n",
       "Age                       21.000   81.000   70.00  \n",
       "BMI                       22.900   57.300   67.10  \n",
       "BloodPressure             30.000  122.000  114.00  \n",
       "DiabetesPedigreeFunction   0.088    2.329    2.42  \n",
       "Insulin                   14.000  744.000  846.00  \n",
       "Pregnancies                0.000   13.000   17.00  \n",
       "SkinThickness              7.000   60.000   99.00  "
      ],
      "text/html": [
       "<div>\n",
       "<style scoped>\n",
       "    .dataframe tbody tr th:only-of-type {\n",
       "        vertical-align: middle;\n",
       "    }\n",
       "\n",
       "    .dataframe tbody tr th {\n",
       "        vertical-align: top;\n",
       "    }\n",
       "\n",
       "    .dataframe thead tr th {\n",
       "        text-align: left;\n",
       "    }\n",
       "</style>\n",
       "<table border=\"1\" class=\"dataframe\">\n",
       "  <thead>\n",
       "    <tr>\n",
       "      <th></th>\n",
       "      <th colspan=\"2\" halign=\"left\">mean</th>\n",
       "      <th colspan=\"2\" halign=\"left\">median</th>\n",
       "      <th colspan=\"2\" halign=\"left\">min</th>\n",
       "      <th colspan=\"2\" halign=\"left\">max</th>\n",
       "    </tr>\n",
       "    <tr>\n",
       "      <th>Outcome</th>\n",
       "      <th>0</th>\n",
       "      <th>1</th>\n",
       "      <th>0</th>\n",
       "      <th>1</th>\n",
       "      <th>0</th>\n",
       "      <th>1</th>\n",
       "      <th>0</th>\n",
       "      <th>1</th>\n",
       "    </tr>\n",
       "  </thead>\n",
       "  <tbody>\n",
       "    <tr>\n",
       "      <th>Age</th>\n",
       "      <td>31.190000</td>\n",
       "      <td>37.067164</td>\n",
       "      <td>27.000</td>\n",
       "      <td>36.000</td>\n",
       "      <td>21.000</td>\n",
       "      <td>21.000</td>\n",
       "      <td>81.000</td>\n",
       "      <td>70.00</td>\n",
       "    </tr>\n",
       "    <tr>\n",
       "      <th>BMI</th>\n",
       "      <td>30.859674</td>\n",
       "      <td>35.406767</td>\n",
       "      <td>30.100</td>\n",
       "      <td>34.300</td>\n",
       "      <td>18.200</td>\n",
       "      <td>22.900</td>\n",
       "      <td>57.300</td>\n",
       "      <td>67.10</td>\n",
       "    </tr>\n",
       "    <tr>\n",
       "      <th>BloodPressure</th>\n",
       "      <td>70.877339</td>\n",
       "      <td>75.321429</td>\n",
       "      <td>70.000</td>\n",
       "      <td>74.500</td>\n",
       "      <td>24.000</td>\n",
       "      <td>30.000</td>\n",
       "      <td>122.000</td>\n",
       "      <td>114.00</td>\n",
       "    </tr>\n",
       "    <tr>\n",
       "      <th>DiabetesPedigreeFunction</th>\n",
       "      <td>0.429734</td>\n",
       "      <td>0.550500</td>\n",
       "      <td>0.336</td>\n",
       "      <td>0.449</td>\n",
       "      <td>0.078</td>\n",
       "      <td>0.088</td>\n",
       "      <td>2.329</td>\n",
       "      <td>2.42</td>\n",
       "    </tr>\n",
       "    <tr>\n",
       "      <th>Insulin</th>\n",
       "      <td>130.287879</td>\n",
       "      <td>206.846154</td>\n",
       "      <td>102.500</td>\n",
       "      <td>169.500</td>\n",
       "      <td>15.000</td>\n",
       "      <td>14.000</td>\n",
       "      <td>744.000</td>\n",
       "      <td>846.00</td>\n",
       "    </tr>\n",
       "    <tr>\n",
       "      <th>Pregnancies</th>\n",
       "      <td>3.298000</td>\n",
       "      <td>4.865672</td>\n",
       "      <td>2.000</td>\n",
       "      <td>4.000</td>\n",
       "      <td>0.000</td>\n",
       "      <td>0.000</td>\n",
       "      <td>13.000</td>\n",
       "      <td>17.00</td>\n",
       "    </tr>\n",
       "    <tr>\n",
       "      <th>SkinThickness</th>\n",
       "      <td>27.235457</td>\n",
       "      <td>33.000000</td>\n",
       "      <td>27.000</td>\n",
       "      <td>32.000</td>\n",
       "      <td>7.000</td>\n",
       "      <td>7.000</td>\n",
       "      <td>60.000</td>\n",
       "      <td>99.00</td>\n",
       "    </tr>\n",
       "  </tbody>\n",
       "</table>\n",
       "</div>"
      ]
     },
     "execution_count": 104,
     "metadata": {},
     "output_type": "execute_result"
    }
   ],
   "execution_count": 104
  },
  {
   "metadata": {},
   "cell_type": "markdown",
   "source": [
    "Делаю вывод, что факторы, связанные с развитием диабета это: 4 и более беременности; возраст 36 лет и старше; ИМТ 35 и более (Ожирение 2 степени); DPF 0.5 и выше; толщина подкожной складки 33 и более; уровень инсулина.\n",
    "\n",
    "Уровень ДАД не является фактором риска, т.к. среднее АД не отличалось в группах с СД и без него, при этом максимальное значение ДАД в группе у пациенток без СД. Возможно, мы бы увидели другие результаты, если бы это было САД.\n"
   ],
   "id": "353280f4efa29af9"
  },
  {
   "metadata": {},
   "cell_type": "markdown",
   "source": [
    "__Объединение train и test__ \n",
    "\n",
    "В test 16 колонок, 848 строк. В train 17 колонок, 3390 строк. В датасетах test и train одним и тем же параметрам соответствуют колонки: все, кроме TenYearCHD. Их можно объединить горизонтально, по строкам. Общее количество строк должно быть 4238.\n"
   ],
   "id": "bd8c9906b4da0eee"
  },
  {
   "metadata": {
    "ExecuteTime": {
     "end_time": "2024-12-09T16:12:09.380430Z",
     "start_time": "2024-12-09T16:12:09.365662Z"
    }
   },
   "cell_type": "code",
   "source": [
    "train_test = pd.concat([train, test], axis=0)\n",
    "train_test.info()"
   ],
   "id": "54ec32ad351791c4",
   "outputs": [
    {
     "name": "stdout",
     "output_type": "stream",
     "text": [
      "<class 'pandas.core.frame.DataFrame'>\n",
      "Index: 4238 entries, 0 to 847\n",
      "Data columns (total 17 columns):\n",
      " #   Column           Non-Null Count  Dtype  \n",
      "---  ------           --------------  -----  \n",
      " 0   id               4238 non-null   int64  \n",
      " 1   age              4238 non-null   int64  \n",
      " 2   education        4133 non-null   float64\n",
      " 3   sex              4238 non-null   object \n",
      " 4   is_smoking       4238 non-null   object \n",
      " 5   cigsPerDay       4209 non-null   float64\n",
      " 6   BPMeds           4185 non-null   float64\n",
      " 7   prevalentStroke  4238 non-null   int64  \n",
      " 8   prevalentHyp     4238 non-null   int64  \n",
      " 9   diabetes         4238 non-null   int64  \n",
      " 10  totChol          4188 non-null   float64\n",
      " 11  sysBP            4238 non-null   float64\n",
      " 12  diaBP            4238 non-null   float64\n",
      " 13  BMI              4219 non-null   float64\n",
      " 14  heartRate        4237 non-null   float64\n",
      " 15  glucose          3850 non-null   float64\n",
      " 16  TenYearCHD       3390 non-null   float64\n",
      "dtypes: float64(10), int64(5), object(2)\n",
      "memory usage: 596.0+ KB\n"
     ]
    }
   ],
   "execution_count": 105
  },
  {
   "metadata": {
    "ExecuteTime": {
     "end_time": "2024-12-09T16:12:09.445708Z",
     "start_time": "2024-12-09T16:12:09.440148Z"
    }
   },
   "cell_type": "code",
   "source": "train_test = train_test.drop('TenYearCHD', axis=1)",
   "id": "d47d20da31d677a7",
   "outputs": [],
   "execution_count": 106
  },
  {
   "metadata": {},
   "cell_type": "markdown",
   "source": [
    "__Что в train_test?__\n",
    "\n",
    "Это исследование жителей города Фрамингем, штат Массачусетс. В объединенном датасете у нас есть такие данные: id, возраст, уровень образования, пол, факт курения, количество выкуриваемых сигарет в день, колонка BPMeds (медицинские данные, возможно удалю ее, не понимаю, какую информацию она нет), факт инсульта, факт АГ, факт СД, уровень холестерина, САД, ДАД, ИМТ, ЧСС, уровень глюкозы. Столбец риска развития ИБС есть только в датасете train, это расчетный показатель и при объединении 848 id будут без этого значения. Я удалю этот столбец, принимая во внимание то, что нас интересует СД, а сердечно-сосудистый риск.\n",
    "Проанализируем данные на предмет пропущенных значений, для этого посмотрим на min и соотнесем с реальностью. Итого min == 0 у приемлемых показателей. Появились новые факты, которые можно отнести к факторам риска диабета: уровень образования, пол, факт курения, факт инсульта, уровень холестерина, САД, ЧСС. Проверим одинаковы ли выводы с предыдущим датасетом по данным: возраст, уровень ДАД, ИМТ.\n"
   ],
   "id": "2dd1c604343e202a"
  },
  {
   "metadata": {
    "ExecuteTime": {
     "end_time": "2024-12-09T16:12:09.512479Z",
     "start_time": "2024-12-09T16:12:09.476525Z"
    }
   },
   "cell_type": "code",
   "source": [
    "train_test.pivot_table(\n",
    "    values=['age', 'education', 'prevalentStroke', 'prevalentHyp', 'totChol', 'sysBP', 'diaBP', 'BMI', 'heartRate'],\n",
    "    aggfunc=['mean', 'median', 'min', 'max'],\n",
    "    columns='diabetes'\n",
    ")"
   ],
   "id": "1fd988fdd42b65c0",
   "outputs": [
    {
     "data": {
      "text/plain": [
       "                       mean               median             min          \\\n",
       "diabetes                  0           1        0       1       0       1   \n",
       "BMI               25.744730   28.003178   25.355   27.78   15.54   17.17   \n",
       "age               49.443933   54.926606   49.000   55.00   32.00   36.00   \n",
       "diaBP             82.796077   86.582569   82.000   85.00   48.00   51.00   \n",
       "education          1.985349    1.735849    2.000    1.00    1.00    1.00   \n",
       "heartRate         75.783188   79.504587   75.000   78.00   44.00   52.00   \n",
       "prevalentHyp       0.304674    0.532110    0.000    1.00    0.00    0.00   \n",
       "prevalentStroke    0.005813    0.009174    0.000    0.00    0.00    0.00   \n",
       "sysBP            131.953984  147.444954  128.000  143.50   83.50   85.50   \n",
       "totChol          236.429412  247.759259  234.000  240.00  107.00  150.00   \n",
       "\n",
       "                   max          \n",
       "diabetes             0       1  \n",
       "BMI               56.8   44.27  \n",
       "age               70.0   68.00  \n",
       "diaBP            142.5  140.00  \n",
       "education          4.0    4.00  \n",
       "heartRate        143.0  115.00  \n",
       "prevalentHyp       1.0    1.00  \n",
       "prevalentStroke    1.0    1.00  \n",
       "sysBP            295.0  235.00  \n",
       "totChol          696.0  600.00  "
      ],
      "text/html": [
       "<div>\n",
       "<style scoped>\n",
       "    .dataframe tbody tr th:only-of-type {\n",
       "        vertical-align: middle;\n",
       "    }\n",
       "\n",
       "    .dataframe tbody tr th {\n",
       "        vertical-align: top;\n",
       "    }\n",
       "\n",
       "    .dataframe thead tr th {\n",
       "        text-align: left;\n",
       "    }\n",
       "</style>\n",
       "<table border=\"1\" class=\"dataframe\">\n",
       "  <thead>\n",
       "    <tr>\n",
       "      <th></th>\n",
       "      <th colspan=\"2\" halign=\"left\">mean</th>\n",
       "      <th colspan=\"2\" halign=\"left\">median</th>\n",
       "      <th colspan=\"2\" halign=\"left\">min</th>\n",
       "      <th colspan=\"2\" halign=\"left\">max</th>\n",
       "    </tr>\n",
       "    <tr>\n",
       "      <th>diabetes</th>\n",
       "      <th>0</th>\n",
       "      <th>1</th>\n",
       "      <th>0</th>\n",
       "      <th>1</th>\n",
       "      <th>0</th>\n",
       "      <th>1</th>\n",
       "      <th>0</th>\n",
       "      <th>1</th>\n",
       "    </tr>\n",
       "  </thead>\n",
       "  <tbody>\n",
       "    <tr>\n",
       "      <th>BMI</th>\n",
       "      <td>25.744730</td>\n",
       "      <td>28.003178</td>\n",
       "      <td>25.355</td>\n",
       "      <td>27.78</td>\n",
       "      <td>15.54</td>\n",
       "      <td>17.17</td>\n",
       "      <td>56.8</td>\n",
       "      <td>44.27</td>\n",
       "    </tr>\n",
       "    <tr>\n",
       "      <th>age</th>\n",
       "      <td>49.443933</td>\n",
       "      <td>54.926606</td>\n",
       "      <td>49.000</td>\n",
       "      <td>55.00</td>\n",
       "      <td>32.00</td>\n",
       "      <td>36.00</td>\n",
       "      <td>70.0</td>\n",
       "      <td>68.00</td>\n",
       "    </tr>\n",
       "    <tr>\n",
       "      <th>diaBP</th>\n",
       "      <td>82.796077</td>\n",
       "      <td>86.582569</td>\n",
       "      <td>82.000</td>\n",
       "      <td>85.00</td>\n",
       "      <td>48.00</td>\n",
       "      <td>51.00</td>\n",
       "      <td>142.5</td>\n",
       "      <td>140.00</td>\n",
       "    </tr>\n",
       "    <tr>\n",
       "      <th>education</th>\n",
       "      <td>1.985349</td>\n",
       "      <td>1.735849</td>\n",
       "      <td>2.000</td>\n",
       "      <td>1.00</td>\n",
       "      <td>1.00</td>\n",
       "      <td>1.00</td>\n",
       "      <td>4.0</td>\n",
       "      <td>4.00</td>\n",
       "    </tr>\n",
       "    <tr>\n",
       "      <th>heartRate</th>\n",
       "      <td>75.783188</td>\n",
       "      <td>79.504587</td>\n",
       "      <td>75.000</td>\n",
       "      <td>78.00</td>\n",
       "      <td>44.00</td>\n",
       "      <td>52.00</td>\n",
       "      <td>143.0</td>\n",
       "      <td>115.00</td>\n",
       "    </tr>\n",
       "    <tr>\n",
       "      <th>prevalentHyp</th>\n",
       "      <td>0.304674</td>\n",
       "      <td>0.532110</td>\n",
       "      <td>0.000</td>\n",
       "      <td>1.00</td>\n",
       "      <td>0.00</td>\n",
       "      <td>0.00</td>\n",
       "      <td>1.0</td>\n",
       "      <td>1.00</td>\n",
       "    </tr>\n",
       "    <tr>\n",
       "      <th>prevalentStroke</th>\n",
       "      <td>0.005813</td>\n",
       "      <td>0.009174</td>\n",
       "      <td>0.000</td>\n",
       "      <td>0.00</td>\n",
       "      <td>0.00</td>\n",
       "      <td>0.00</td>\n",
       "      <td>1.0</td>\n",
       "      <td>1.00</td>\n",
       "    </tr>\n",
       "    <tr>\n",
       "      <th>sysBP</th>\n",
       "      <td>131.953984</td>\n",
       "      <td>147.444954</td>\n",
       "      <td>128.000</td>\n",
       "      <td>143.50</td>\n",
       "      <td>83.50</td>\n",
       "      <td>85.50</td>\n",
       "      <td>295.0</td>\n",
       "      <td>235.00</td>\n",
       "    </tr>\n",
       "    <tr>\n",
       "      <th>totChol</th>\n",
       "      <td>236.429412</td>\n",
       "      <td>247.759259</td>\n",
       "      <td>234.000</td>\n",
       "      <td>240.00</td>\n",
       "      <td>107.00</td>\n",
       "      <td>150.00</td>\n",
       "      <td>696.0</td>\n",
       "      <td>600.00</td>\n",
       "    </tr>\n",
       "  </tbody>\n",
       "</table>\n",
       "</div>"
      ]
     },
     "execution_count": 107,
     "metadata": {},
     "output_type": "execute_result"
    }
   ],
   "execution_count": 107
  },
  {
   "metadata": {},
   "cell_type": "markdown",
   "source": [
    "Делаю вывод, что фактором риска развития СД является:\n",
    "\n",
    "ИМТ 28 и более (против 35 в датасете diabetes);\n",
    "\n",
    "Возраст 54 и старше (против 36 лет в датасете diabetes);\n",
    "\n",
    "На большой выборке вижу увеличение значения таких факторов риска, как: ДАД, САД, уровень холестерина.\n",
    "\n",
    "Не является: уровень ЧСС.\n"
   ],
   "id": "db643c3d72fc59a5"
  },
  {
   "metadata": {},
   "cell_type": "markdown",
   "source": [
    "__Объединение третьего датасета__\n",
    "\n",
    "Я не смогла воспользоваться методом merge, чтобы таблицы объединились по diabetes_binary как diabetes_012, возникла memoryError: Unable to allocate 57.5 GiB for an array with shape (7717233564,) and data type int64. Я не смогла с ней справиться, поэтому везде использую concat и посимвольно изменяю имя столбца для беспроблемного конкатенирования."
   ],
   "id": "598b25bb446c100a"
  },
  {
   "metadata": {
    "ExecuteTime": {
     "end_time": "2024-12-09T16:12:09.853417Z",
     "start_time": "2024-12-09T16:12:09.703334Z"
    }
   },
   "cell_type": "code",
   "source": [
    "dia_2 = dia_2.rename(columns={'Diabetes_binary' : 'Diabetes_012'})\n",
    "\n",
    "\"\"\"Эти таблицы содержат 0/1/2 в столбце диабет, а в таблице dia_2 этот показатель бинарный и преддиабет это 1. Заменю 2 на 1.\"\"\"\n",
    "\n",
    "dia_1['Diabetes_012'] = dia_1['Diabetes_012'].apply(lambda x: 1 if x == 2 else x)\n",
    "dia_3['Diabetes_012'] = dia_3['Diabetes_012'].apply(lambda x: 1 if x == 2 else x)"
   ],
   "id": "f48de5b5a3c15ab2",
   "outputs": [],
   "execution_count": 108
  },
  {
   "metadata": {
    "ExecuteTime": {
     "end_time": "2024-12-09T16:12:10.082876Z",
     "start_time": "2024-12-09T16:12:10.020295Z"
    }
   },
   "cell_type": "code",
   "source": [
    "dia_all = pd.concat(\n",
    "    [dia_1, dia_2, dia_3],\n",
    "    ignore_index=True\n",
    ")"
   ],
   "id": "c458bd8e221a0137",
   "outputs": [],
   "execution_count": 109
  },
  {
   "metadata": {
    "ExecuteTime": {
     "end_time": "2024-12-09T16:12:10.120846Z",
     "start_time": "2024-12-09T16:12:10.115322Z"
    }
   },
   "cell_type": "code",
   "source": [
    "\"\"\"Диагноз АГ буду ставить по ДАД, т.к. в первой таблиц есть только ДАД, во второй и ДАД и САД, а в третьей только наличие/отсуствие АГ\"\"\"\n",
    "\n",
    "def get_bp(bp):\n",
    "    \"\"\"1 - наличие АГ, 0 - отсутствие АГ\"\"\"\n",
    "    if bp >= 90:\n",
    "        return 1\n",
    "    else:\n",
    "        return 0"
   ],
   "id": "a4a8c236ed2506c7",
   "outputs": [],
   "execution_count": 110
  },
  {
   "metadata": {
    "ExecuteTime": {
     "end_time": "2024-12-09T16:12:10.375361Z",
     "start_time": "2024-12-09T16:12:10.366232Z"
    }
   },
   "cell_type": "code",
   "source": [
    "\"\"\" Для таблицы diabetes создам столбец HighBP\"\"\"\n",
    "\n",
    "diabetes['HighBP'] = diabetes['BloodPressure'].apply(get_bp)\n",
    "train_test['HighBP'] = train_test['diaBP'].apply(get_bp)"
   ],
   "id": "211abe5f1489dd32",
   "outputs": [],
   "execution_count": 111
  },
  {
   "metadata": {
    "ExecuteTime": {
     "end_time": "2024-12-09T16:12:10.756284Z",
     "start_time": "2024-12-09T16:12:10.617610Z"
    }
   },
   "cell_type": "code",
   "source": [
    "\"\"\"Сделаю одинаковые столбцы в трех таблицах\"\"\"\n",
    "\n",
    "diabetes = diabetes.rename(columns={'Outcome' : 'Diabetes'})\n",
    "dia_all = dia_all.rename(columns={'Diabetes_012': 'Diabetes'})\n",
    "train_test = train_test.rename(columns={'sex' : 'Sex', 'age' : 'Age', 'diabetes' : 'Diabetes'})"
   ],
   "id": "23fc7cdafdc24ea9",
   "outputs": [],
   "execution_count": 112
  },
  {
   "metadata": {
    "ExecuteTime": {
     "end_time": "2024-12-09T16:12:10.989409Z",
     "start_time": "2024-12-09T16:12:10.984067Z"
    }
   },
   "cell_type": "code",
   "source": [
    "\"\"\"в третьей таблице male это 1, а female 0 (https://www.kaggle.com/code/alexteboul/diabetes-health-indicators-dataset-notebook/notebook), поэтому во второй таблице будет также\"\"\"\n",
    "\n",
    "train_test['Sex'] = train_test['Sex'].apply(lambda x: 0 if x == 'F' else 1)"
   ],
   "id": "8c1a1a2c056d5931",
   "outputs": [],
   "execution_count": 113
  },
  {
   "metadata": {
    "ExecuteTime": {
     "end_time": "2024-12-09T16:12:11.431416Z",
     "start_time": "2024-12-09T16:12:11.424807Z"
    }
   },
   "cell_type": "code",
   "source": [
    "\"\"\"В первой таблице только женщины, создам столбец Sex\"\"\"\n",
    "\n",
    "diabetes['Sex'] = [0] * 768"
   ],
   "id": "61b4653de9be1442",
   "outputs": [],
   "execution_count": 114
  },
  {
   "metadata": {
    "ExecuteTime": {
     "end_time": "2024-12-09T16:12:11.473790Z",
     "start_time": "2024-12-09T16:12:11.459190Z"
    }
   },
   "cell_type": "code",
   "source": [
    "\"\"\"Создам маски таблиц с общими столбцами для всех трех таблиц\"\"\"\n",
    "\n",
    "mask_1 = diabetes.loc[:, ['Age', 'Sex', 'HighBP', 'Diabetes', 'BMI']]\n",
    "mask_2 = dia_all.loc[:, ['Age', 'Sex', 'HighBP', 'Diabetes', 'BMI']]\n",
    "mask_3 = train_test.loc[:, ['Age', 'Sex', 'HighBP', 'Diabetes', 'BMI']]"
   ],
   "id": "a6c58889429e4825",
   "outputs": [],
   "execution_count": 115
  },
  {
   "metadata": {
    "ExecuteTime": {
     "end_time": "2024-12-09T16:12:11.666534Z",
     "start_time": "2024-12-09T16:12:11.647358Z"
    }
   },
   "cell_type": "code",
   "source": [
    "general_dataset = pd.concat(\n",
    "    [mask_1, mask_2, mask_3],\n",
    "    ignore_index=True\n",
    ")\n",
    "print(general_dataset)"
   ],
   "id": "a71b7ec68e754e9f",
   "outputs": [
    {
     "name": "stdout",
     "output_type": "stream",
     "text": [
      "         Age  Sex  HighBP  Diabetes    BMI\n",
      "0       50.0  0.0     0.0       1.0  33.60\n",
      "1       31.0  0.0     0.0       0.0  26.60\n",
      "2       32.0  0.0     0.0       1.0  23.30\n",
      "3       21.0  0.0     0.0       0.0  28.10\n",
      "4       33.0  0.0     0.0       1.0  43.10\n",
      "...      ...  ...     ...       ...    ...\n",
      "583053  46.0  0.0     0.0       0.0  27.42\n",
      "583054  58.0  0.0     0.0       0.0  23.08\n",
      "583055  55.0  1.0     0.0       0.0  26.41\n",
      "583056  45.0  0.0     1.0       0.0  22.86\n",
      "583057  56.0  1.0     0.0       0.0  23.44\n",
      "\n",
      "[583058 rows x 5 columns]\n"
     ]
    }
   ],
   "execution_count": 116
  },
  {
   "metadata": {
    "ExecuteTime": {
     "end_time": "2024-12-09T16:12:12.059636Z",
     "start_time": "2024-12-09T16:12:11.877200Z"
    }
   },
   "cell_type": "code",
   "source": [
    "general_dataset.pivot_table(\n",
    "    values=['Age', 'Sex', 'HighBP', 'Diabetes', 'BMI'],\n",
    "    aggfunc=['mean', 'median', 'min', 'max', 'count'],\n",
    "    columns='Diabetes'\n",
    ")"
   ],
   "id": "efd1b3ced8e0970",
   "outputs": [
    {
     "data": {
      "text/plain": [
       "               mean            median         min         max         count  \\\n",
       "Diabetes        0.0        1.0    0.0   1.0   0.0   1.0   0.0   1.0     0.0   \n",
       "Age        8.179800   9.462443    8.0  10.0   1.0   1.0  81.0  70.0  467381   \n",
       "BMI       27.730294  31.850679   27.0  31.0  12.0  13.0  98.0  98.0  467355   \n",
       "HighBP     0.369938   0.740925    0.0   1.0   0.0   0.0   1.0   1.0  467381   \n",
       "Sex        0.433535   0.474692    0.0   0.0   0.0   0.0   1.0   1.0  467381   \n",
       "\n",
       "                  \n",
       "Diabetes     1.0  \n",
       "Age       115677  \n",
       "BMI       115673  \n",
       "HighBP    115677  \n",
       "Sex       115677  "
      ],
      "text/html": [
       "<div>\n",
       "<style scoped>\n",
       "    .dataframe tbody tr th:only-of-type {\n",
       "        vertical-align: middle;\n",
       "    }\n",
       "\n",
       "    .dataframe tbody tr th {\n",
       "        vertical-align: top;\n",
       "    }\n",
       "\n",
       "    .dataframe thead tr th {\n",
       "        text-align: left;\n",
       "    }\n",
       "</style>\n",
       "<table border=\"1\" class=\"dataframe\">\n",
       "  <thead>\n",
       "    <tr>\n",
       "      <th></th>\n",
       "      <th colspan=\"2\" halign=\"left\">mean</th>\n",
       "      <th colspan=\"2\" halign=\"left\">median</th>\n",
       "      <th colspan=\"2\" halign=\"left\">min</th>\n",
       "      <th colspan=\"2\" halign=\"left\">max</th>\n",
       "      <th colspan=\"2\" halign=\"left\">count</th>\n",
       "    </tr>\n",
       "    <tr>\n",
       "      <th>Diabetes</th>\n",
       "      <th>0.0</th>\n",
       "      <th>1.0</th>\n",
       "      <th>0.0</th>\n",
       "      <th>1.0</th>\n",
       "      <th>0.0</th>\n",
       "      <th>1.0</th>\n",
       "      <th>0.0</th>\n",
       "      <th>1.0</th>\n",
       "      <th>0.0</th>\n",
       "      <th>1.0</th>\n",
       "    </tr>\n",
       "  </thead>\n",
       "  <tbody>\n",
       "    <tr>\n",
       "      <th>Age</th>\n",
       "      <td>8.179800</td>\n",
       "      <td>9.462443</td>\n",
       "      <td>8.0</td>\n",
       "      <td>10.0</td>\n",
       "      <td>1.0</td>\n",
       "      <td>1.0</td>\n",
       "      <td>81.0</td>\n",
       "      <td>70.0</td>\n",
       "      <td>467381</td>\n",
       "      <td>115677</td>\n",
       "    </tr>\n",
       "    <tr>\n",
       "      <th>BMI</th>\n",
       "      <td>27.730294</td>\n",
       "      <td>31.850679</td>\n",
       "      <td>27.0</td>\n",
       "      <td>31.0</td>\n",
       "      <td>12.0</td>\n",
       "      <td>13.0</td>\n",
       "      <td>98.0</td>\n",
       "      <td>98.0</td>\n",
       "      <td>467355</td>\n",
       "      <td>115673</td>\n",
       "    </tr>\n",
       "    <tr>\n",
       "      <th>HighBP</th>\n",
       "      <td>0.369938</td>\n",
       "      <td>0.740925</td>\n",
       "      <td>0.0</td>\n",
       "      <td>1.0</td>\n",
       "      <td>0.0</td>\n",
       "      <td>0.0</td>\n",
       "      <td>1.0</td>\n",
       "      <td>1.0</td>\n",
       "      <td>467381</td>\n",
       "      <td>115677</td>\n",
       "    </tr>\n",
       "    <tr>\n",
       "      <th>Sex</th>\n",
       "      <td>0.433535</td>\n",
       "      <td>0.474692</td>\n",
       "      <td>0.0</td>\n",
       "      <td>0.0</td>\n",
       "      <td>0.0</td>\n",
       "      <td>0.0</td>\n",
       "      <td>1.0</td>\n",
       "      <td>1.0</td>\n",
       "      <td>467381</td>\n",
       "      <td>115677</td>\n",
       "    </tr>\n",
       "  </tbody>\n",
       "</table>\n",
       "</div>"
      ]
     },
     "execution_count": 117,
     "metadata": {},
     "output_type": "execute_result"
    }
   ],
   "execution_count": 117
  },
  {
   "metadata": {},
   "cell_type": "markdown",
   "source": "Нужно выяснить у кого в популяции чаще встречается сахарный диабет, зависимость наличия диабета от возраста, ИМТ, пола и наличия АГ.",
   "id": "1f1a7a35d9e69ad5"
  },
  {
   "metadata": {
    "ExecuteTime": {
     "end_time": "2024-12-09T16:12:12.278613Z",
     "start_time": "2024-12-09T16:12:12.275305Z"
    }
   },
   "cell_type": "code",
   "source": [
    "import seaborn as sns\n",
    "import matplotlib.pyplot as plt"
   ],
   "id": "32685d800a1a636b",
   "outputs": [],
   "execution_count": 118
  },
  {
   "metadata": {
    "ExecuteTime": {
     "end_time": "2024-12-09T16:12:12.539516Z",
     "start_time": "2024-12-09T16:12:12.288701Z"
    }
   },
   "cell_type": "code",
   "source": "sns.heatmap(general_dataset.corr());",
   "id": "e166dcf564d6410e",
   "outputs": [
    {
     "data": {
      "text/plain": [
       "<Figure size 640x480 with 2 Axes>"
      ],
      "image/png": "[encoded data removed]"
     },
     "metadata": {},
     "output_type": "display_data"
    }
   ],
   "execution_count": 119
  },
  {
   "metadata": {
    "ExecuteTime": {
     "end_time": "2024-12-09T16:12:12.599553Z",
     "start_time": "2024-12-09T16:12:12.594977Z"
    }
   },
   "cell_type": "code",
   "source": [
    "age = general_dataset['Age']\n",
    "BMI = general_dataset['BMI']"
   ],
   "id": "cc68f6b199f82842",
   "outputs": [],
   "execution_count": 120
  },
  {
   "metadata": {
    "ExecuteTime": {
     "end_time": "2024-12-09T16:12:18.621715Z",
     "start_time": "2024-12-09T16:12:12.653770Z"
    }
   },
   "cell_type": "code",
   "source": [
    "pd.DataFrame(data=general_dataset, columns=['Age', 'BMI'])\n",
    "sns.boxplot(x='variable', y='value', data=pd.melt(general_dataset));"
   ],
   "id": "1ee68e9708ae5ad",
   "outputs": [
    {
     "data": {
      "text/plain": [
       "<Figure size 640x480 with 1 Axes>"
      ],
      "image/png": "[encoded data removed]"
     },
     "metadata": {},
     "output_type": "display_data"
    }
   ],
   "execution_count": 121
  },
  {
   "metadata": {
    "ExecuteTime": {
     "end_time": "2024-12-09T16:12:21.216254Z",
     "start_time": "2024-12-09T16:12:18.646830Z"
    }
   },
   "cell_type": "code",
   "source": "sns.violinplot(x='Age', data=general_dataset);",
   "id": "b73da6df05fd9de",
   "outputs": [
    {
     "data": {
      "text/plain": [
       "<Figure size 640x480 with 1 Axes>"
      ],
      "image/png": "[encoded data removed]"
     },
     "metadata": {},
     "output_type": "display_data"
    }
   ],
   "execution_count": 122
  },
  {
   "metadata": {
    "ExecuteTime": {
     "end_time": "2024-12-09T16:12:24.008946Z",
     "start_time": "2024-12-09T16:12:21.399702Z"
    }
   },
   "cell_type": "code",
   "source": "sns.violinplot(x='BMI', data=general_dataset);",
   "id": "11480331c82c5f0f",
   "outputs": [
    {
     "data": {
      "text/plain": [
       "<Figure size 640x480 with 1 Axes>"
      ],
      "image/png": "[encoded data removed]"
     },
     "metadata": {},
     "output_type": "display_data"
    }
   ],
   "execution_count": 123
  },
  {
   "metadata": {
    "ExecuteTime": {
     "end_time": "2024-12-09T16:12:24.873897Z",
     "start_time": "2024-12-09T16:12:24.451735Z"
    }
   },
   "cell_type": "code",
   "source": "sns.displot(data=general_dataset, x='Diabetes')",
   "id": "c486f868888d10ca",
   "outputs": [
    {
     "data": {
      "text/plain": [
       "<seaborn.axisgrid.FacetGrid at 0x77a8b072c230>"
      ]
     },
     "execution_count": 124,
     "metadata": {},
     "output_type": "execute_result"
    },
    {
     "data": {
      "text/plain": [
       "<Figure size 500x500 with 1 Axes>"
      ],
      "image/png": "[encoded data removed]"
     },
     "metadata": {},
     "output_type": "display_data"
    }
   ],
   "execution_count": 124
  }
 ],
 "metadata": {
  "kernelspec": {
   "display_name": "Python 3",
   "language": "python",
   "name": "python3"
  },
  "language_info": {
   "codemirror_mode": {
    "name": "ipython",
    "version": 2
   },
   "file_extension": ".py",
   "mimetype": "text/x-python",
   "name": "python",
   "nbconvert_exporter": "python",
   "pygments_lexer": "ipython2",
   "version": "2.7.6"
  }
 },
 "nbformat": 4,
 "nbformat_minor": 5
}
